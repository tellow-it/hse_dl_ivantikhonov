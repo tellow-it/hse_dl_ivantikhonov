{
 "cells": [
  {
   "cell_type": "code",
   "execution_count": 96,
   "id": "8cc148dc-d83d-4c32-bbb0-3ffd82ba4e98",
   "metadata": {},
   "outputs": [],
   "source": [
    "import numpy as np\n",
    "import pandas as pd\n",
    "import matplotlib.pyplot as plt\n",
    "\n",
    "from sklearn.linear_model import LinearRegression\n",
    "from sklearn.model_selection import train_test_split\n",
    "from sklearn.metrics import r2_score\n",
    "from sklearn.preprocessing import MinMaxScaler\n",
    "\n",
    "%matplotlib inline"
   ]
  },
  {
   "cell_type": "markdown",
   "id": "e3a06e1e-3bc0-4667-84f3-7e86698c3737",
   "metadata": {},
   "source": [
    "# Загружаем выборку Diamonds"
   ]
  },
  {
   "cell_type": "markdown",
   "id": "c731a143-3dc9-43e7-96f5-b1eff9093345",
   "metadata": {},
   "source": [
    "1. PRICE: price in US dollars (326-18,823)\n",
    "2. CARAT: weight of the diamond (0.2--5.01)\n",
    "3. CUT: quality of the cut (Fair, Good, Very Good, Premium, Ideal)\n",
    "4. COLOR: diamond colour, from J (worst) to D (best)\n",
    "5. CLARITY: a measurement of how clear the diamond is (I1 (worst), SI2, SI1, VS2, VS1, VVS2, VVS1, IF (best))\n",
    "6. X: length in mm (0--10.74)\n",
    "7. Y: width in mm (0--58.9)\n",
    "8. Z: depth in mm (0--31.8)\n",
    "9. DEPTH: total depth percentage = z / mean(x, y) = 2 * z / (x + y) (43--79)\n",
    "10. TABLE: width of top of diamond relative to widest point (43--95)"
   ]
  },
  {
   "cell_type": "code",
   "execution_count": 97,
   "id": "0f24cf86-653a-422b-9df1-8029fdccf153",
   "metadata": {},
   "outputs": [],
   "source": [
    "diamonds_df = pd.read_csv('diamonds.csv')"
   ]
  },
  {
   "cell_type": "code",
   "execution_count": 98,
   "id": "70d9ccfe-e1cf-4c90-a5ab-40ae0852f1ce",
   "metadata": {},
   "outputs": [
    {
     "data": {
      "text/html": [
       "<div>\n",
       "<style scoped>\n",
       "    .dataframe tbody tr th:only-of-type {\n",
       "        vertical-align: middle;\n",
       "    }\n",
       "\n",
       "    .dataframe tbody tr th {\n",
       "        vertical-align: top;\n",
       "    }\n",
       "\n",
       "    .dataframe thead th {\n",
       "        text-align: right;\n",
       "    }\n",
       "</style>\n",
       "<table border=\"1\" class=\"dataframe\">\n",
       "  <thead>\n",
       "    <tr style=\"text-align: right;\">\n",
       "      <th></th>\n",
       "      <th>Unnamed: 0</th>\n",
       "      <th>carat</th>\n",
       "      <th>cut</th>\n",
       "      <th>color</th>\n",
       "      <th>clarity</th>\n",
       "      <th>depth</th>\n",
       "      <th>table</th>\n",
       "      <th>price</th>\n",
       "      <th>x</th>\n",
       "      <th>y</th>\n",
       "      <th>z</th>\n",
       "    </tr>\n",
       "  </thead>\n",
       "  <tbody>\n",
       "    <tr>\n",
       "      <th>0</th>\n",
       "      <td>1</td>\n",
       "      <td>0.23</td>\n",
       "      <td>Ideal</td>\n",
       "      <td>E</td>\n",
       "      <td>SI2</td>\n",
       "      <td>61.5</td>\n",
       "      <td>55.0</td>\n",
       "      <td>326</td>\n",
       "      <td>3.95</td>\n",
       "      <td>3.98</td>\n",
       "      <td>2.43</td>\n",
       "    </tr>\n",
       "    <tr>\n",
       "      <th>1</th>\n",
       "      <td>2</td>\n",
       "      <td>0.21</td>\n",
       "      <td>Premium</td>\n",
       "      <td>E</td>\n",
       "      <td>SI1</td>\n",
       "      <td>59.8</td>\n",
       "      <td>61.0</td>\n",
       "      <td>326</td>\n",
       "      <td>3.89</td>\n",
       "      <td>3.84</td>\n",
       "      <td>2.31</td>\n",
       "    </tr>\n",
       "    <tr>\n",
       "      <th>2</th>\n",
       "      <td>3</td>\n",
       "      <td>0.23</td>\n",
       "      <td>Good</td>\n",
       "      <td>E</td>\n",
       "      <td>VS1</td>\n",
       "      <td>56.9</td>\n",
       "      <td>65.0</td>\n",
       "      <td>327</td>\n",
       "      <td>4.05</td>\n",
       "      <td>4.07</td>\n",
       "      <td>2.31</td>\n",
       "    </tr>\n",
       "    <tr>\n",
       "      <th>3</th>\n",
       "      <td>4</td>\n",
       "      <td>0.29</td>\n",
       "      <td>Premium</td>\n",
       "      <td>I</td>\n",
       "      <td>VS2</td>\n",
       "      <td>62.4</td>\n",
       "      <td>58.0</td>\n",
       "      <td>334</td>\n",
       "      <td>4.20</td>\n",
       "      <td>4.23</td>\n",
       "      <td>2.63</td>\n",
       "    </tr>\n",
       "    <tr>\n",
       "      <th>4</th>\n",
       "      <td>5</td>\n",
       "      <td>0.31</td>\n",
       "      <td>Good</td>\n",
       "      <td>J</td>\n",
       "      <td>SI2</td>\n",
       "      <td>63.3</td>\n",
       "      <td>58.0</td>\n",
       "      <td>335</td>\n",
       "      <td>4.34</td>\n",
       "      <td>4.35</td>\n",
       "      <td>2.75</td>\n",
       "    </tr>\n",
       "  </tbody>\n",
       "</table>\n",
       "</div>"
      ],
      "text/plain": [
       "   Unnamed: 0  carat      cut color clarity  depth  table  price     x     y  \\\n",
       "0           1   0.23    Ideal     E     SI2   61.5   55.0    326  3.95  3.98   \n",
       "1           2   0.21  Premium     E     SI1   59.8   61.0    326  3.89  3.84   \n",
       "2           3   0.23     Good     E     VS1   56.9   65.0    327  4.05  4.07   \n",
       "3           4   0.29  Premium     I     VS2   62.4   58.0    334  4.20  4.23   \n",
       "4           5   0.31     Good     J     SI2   63.3   58.0    335  4.34  4.35   \n",
       "\n",
       "      z  \n",
       "0  2.43  \n",
       "1  2.31  \n",
       "2  2.31  \n",
       "3  2.63  \n",
       "4  2.75  "
      ]
     },
     "execution_count": 98,
     "metadata": {},
     "output_type": "execute_result"
    }
   ],
   "source": [
    "diamonds_df.head()"
   ]
  },
  {
   "cell_type": "code",
   "execution_count": 99,
   "id": "fad21c95-f542-44ec-8f06-8f57fd42ddef",
   "metadata": {},
   "outputs": [
    {
     "data": {
      "image/png": "[encoded data removed]",
      "text/plain": [
       "<Figure size 640x480 with 1 Axes>"
      ]
     },
     "metadata": {},
     "output_type": "display_data"
    }
   ],
   "source": [
    "plt.hist(diamonds_df['price'], bins=100)\n",
    "plt.grid();"
   ]
  },
  {
   "cell_type": "markdown",
   "id": "17ac44bb-86c7-424a-8b9b-0a21bf490683",
   "metadata": {},
   "source": [
    "# Подготовка данных"
   ]
  },
  {
   "cell_type": "code",
   "execution_count": 100,
   "id": "e19945ea-cecf-481e-a28b-3f9c11001918",
   "metadata": {},
   "outputs": [],
   "source": [
    "features = ['carat', 'cut', 'color', 'clarity', 'depth', 'table', 'x', 'y', 'z']\n",
    "target = ['price']"
   ]
  },
  {
   "cell_type": "code",
   "execution_count": 101,
   "id": "fbc43eb0-e77f-4765-8b0e-b9052c093855",
   "metadata": {},
   "outputs": [],
   "source": [
    "cut_transform = {'Fair': 0, 'Good': 1, 'Very Good': 2, 'Premium': 3, 'Ideal': 4}\n",
    "clarity_transform = {'I1': 0, 'SI2': 1, 'SI1': 2, 'VS2': 3, 'VS1': 4, 'VVS2': 5, 'VVS1': 6, 'IF': 7}\n",
    "color_transorm = {'D': 0, 'E': 1, 'F': 2, 'G': 3, 'H': 4, 'I': 5, 'J': 6}"
   ]
  },
  {
   "cell_type": "code",
   "execution_count": 102,
   "id": "6f82b34f-9ffc-478f-a103-b2cbbca49a94",
   "metadata": {},
   "outputs": [],
   "source": [
    "diamonds_df['cut'] = diamonds_df['cut'].apply(lambda x: cut_transform.get(x))\n",
    "diamonds_df['color'] = diamonds_df['color'].apply(lambda x: color_transorm.get(x))\n",
    "diamonds_df['clarity'] = diamonds_df['clarity'].apply(lambda x: clarity_transform.get(x))"
   ]
  },
  {
   "cell_type": "code",
   "execution_count": 103,
   "id": "8e5fa82b-92ed-4e79-adf2-422204b45e82",
   "metadata": {},
   "outputs": [],
   "source": [
    "X = diamonds_df[features].copy().values\n",
    "y = diamonds_df[target].values"
   ]
  },
  {
   "cell_type": "code",
   "execution_count": 104,
   "id": "baafcd96-b32e-469e-b354-fa0aba09db8f",
   "metadata": {},
   "outputs": [],
   "source": [
    "scaler = MinMaxScaler()\n",
    "X = scaler.fit_transform(X)"
   ]
  },
  {
   "cell_type": "code",
   "execution_count": 105,
   "id": "64c11d68-dc5c-4753-9cc4-3cc4e136f3cb",
   "metadata": {},
   "outputs": [],
   "source": [
    "X_train, X_test, y_train, y_test = train_test_split(X, y, random_state=47, test_size=0.3)"
   ]
  },
  {
   "cell_type": "markdown",
   "id": "3b743ed1-d0cf-485d-b8f2-8c71fc174e8b",
   "metadata": {},
   "source": [
    "# Обучаем модель линейной регрессии"
   ]
  },
  {
   "cell_type": "code",
   "execution_count": 106,
   "id": "0068e36f-040e-4aa3-bb06-88aa95051478",
   "metadata": {},
   "outputs": [],
   "source": [
    "reg = LinearRegression().fit(X_train, y_train)"
   ]
  },
  {
   "cell_type": "code",
   "execution_count": 107,
   "id": "f968e336-4049-41b2-81d1-4c24f0969bbb",
   "metadata": {},
   "outputs": [],
   "source": [
    "y_pred = reg.predict(X_test)"
   ]
  },
  {
   "cell_type": "code",
   "execution_count": 108,
   "id": "0952990a-b3d6-4da4-9cc6-1ab3a7a25ac7",
   "metadata": {},
   "outputs": [],
   "source": [
    "score = r2_score(y_pred, y_test)"
   ]
  },
  {
   "cell_type": "code",
   "execution_count": 109,
   "id": "f89c3bbd-0a3a-48ac-b1ab-b75dc0c5bcce",
   "metadata": {},
   "outputs": [
    {
     "data": {
      "image/png": "[encoded data removed]",
      "text/plain": [
       "<Figure size 640x480 with 1 Axes>"
      ]
     },
     "metadata": {},
     "output_type": "display_data"
    }
   ],
   "source": [
    "plt.title(f'R2: {str(score)[:5]}')\n",
    "plt.hist(y_pred.reshape(1, -1)[0], bins=100, label='PREDICTION')\n",
    "plt.hist(y_test.reshape(1, -1)[0], bins=100, label='GT')\n",
    "plt.legend()\n",
    "plt.grid();"
   ]
  },
  {
   "cell_type": "markdown",
   "id": "7886f8b7-ba2e-4fde-8b91-f815ea961fe5",
   "metadata": {},
   "source": [
    "# Создаём модель MLP для задачи регрессии"
   ]
  },
  {
   "cell_type": "code",
   "execution_count": 216,
   "id": "51b7ef93-763a-4617-98e4-c2c98e2a12a5",
   "metadata": {},
   "outputs": [],
   "source": [
    "import numpy as np\n",
    "\n",
    "class MLPRegressor:\n",
    "    def __init__(self, hidden_layer_sizes=100, learning_rate=0.0000001, max_iter=1000):\n",
    "        \"\"\"\n",
    "        Инициализация модели.\n",
    "        :param hidden_layer_sizes: кортеж, задающий количество нейронов в каждом скрытом слое.\n",
    "        :param learning_rate: скорость обучения.\n",
    "        :param max_iter: максимальное количество итераций обучения.\n",
    "        \"\"\"\n",
    "        self.hidden_layer_sizes = hidden_layer_sizes\n",
    "        self.learning_rate = learning_rate\n",
    "        self.max_iter = max_iter\n",
    "\n",
    "        self.weights = []\n",
    "\n",
    "\n",
    "    def _initialize_weights(self, n_features):\n",
    "        layer_sizes = [n_features] + [self.hidden_layer_sizes] + [1]\n",
    "        for i in range(len(layer_sizes) - 1):\n",
    "            self.weights.append(np.random.uniform(-0.5, 0.5, size=(layer_sizes[i], layer_sizes[i+1])))\n",
    "\n",
    "    def _sigmoid(self, z):\n",
    "        return 1 / (1 + np.exp(-z))\n",
    "\n",
    "    def _sigmoid_derivative(self, z):\n",
    "        s = self._sigmoid(z)\n",
    "        return s * (1 - s)\n",
    "\n",
    "    def _forward(self, X):\n",
    "        \"\"\"\n",
    "        Прямой проход.\n",
    "        \"\"\"\n",
    "        activations = [X]\n",
    "        inputs = []\n",
    "        for i in range(len(self.weights)):\n",
    "            W = self.weights[i]\n",
    "            Z = np.dot(activations[-1], W) \n",
    "            inputs.append(Z)\n",
    "            if i == len(self.weights) - 1:\n",
    "                # для последнего, линейного слоя\n",
    "                activations.append(Z)\n",
    "            else:\n",
    "                activations.append(self._sigmoid(Z))\n",
    "        return inputs, activations\n",
    "\n",
    "    def _backpropagation(self, inputs, activations, y):\n",
    "        \"\"\"\n",
    "        Обратное распространение ошибки.\n",
    "        \"\"\"\n",
    "        deltas = [2 * (activations[-1] - y)]  # Ошибка на выходном слое\n",
    "\n",
    "        for i in range(len(self.weights) - 1, 0, -1):\n",
    "            delta = np.dot(deltas[0], self.weights[i].T) * self._sigmoid_derivative(inputs[i - 1])\n",
    "            deltas.insert(0, delta)\n",
    "\n",
    "        grad_W = [np.dot(activations[i].T, deltas[i]) for i in range(len(self.weights))]\n",
    "\n",
    "        return grad_W\n",
    "\n",
    "    def train(self, X, y):\n",
    "        \"\"\"\n",
    "        Обучение модели на данных.\n",
    "        \"\"\"\n",
    "        n_samples, n_features = X.shape\n",
    "        self._initialize_weights(n_features)\n",
    "\n",
    "        for epoch in range(self.max_iter):\n",
    "            inputs, activations = self._forward(X)\n",
    "            grad_W = self._backpropagation(inputs, activations, y)\n",
    "\n",
    "            # Обновляем веса и смещения\n",
    "            for i in range(len(self.weights)):\n",
    "                self.weights[i] -= self.learning_rate * grad_W[i]\n",
    "\n",
    "            # Выводим потери каждые 10 эпох\n",
    "            if epoch % 10 == 0:\n",
    "                loss = np.mean((activations[-1] - y) ** 2 )\n",
    "                print(f\"Эпоха {epoch}, Потери: {loss}\")\n",
    "\n",
    "    def predict(self, X):\n",
    "        \"\"\"\n",
    "        Прогноз на новых данных.\n",
    "        \"\"\"\n",
    "        _, activations = self._forward(X)\n",
    "        return activations[-1]\n"
   ]
  },
  {
   "cell_type": "code",
   "execution_count": 213,
   "id": "9542c8ae-265c-4abc-b110-455c6fd7cced",
   "metadata": {},
   "outputs": [],
   "source": [
    "# Тестовая реализация через стоахастический градиентный спуск\n",
    "class MLPRegressorSGB:\n",
    "    def __init__(\n",
    "        self,\n",
    "        hidden_layer_sizes=(100,),\n",
    "        learning_rate=0.00001,\n",
    "        max_iter=10000,\n",
    "    ):\n",
    "        self.hidden_layer_sizes = hidden_layer_sizes\n",
    "        self.learning_rate = learning_rate\n",
    "        self.max_iter = max_iter\n",
    "\n",
    "        self.weights = []\n",
    "        self.biases = []\n",
    "\n",
    "    def _init_weights(self, n_features):\n",
    "        layers = [n_features] + list(self.hidden_layer_sizes) + [1]\n",
    "\n",
    "        for i in range(len(layers) - 1):\n",
    "            self.weights.append(np.random.uniform(-0.5, 0.5, size=(layers[i+1], layers[i])))\n",
    "\n",
    "    def _sigmoid(self, z):\n",
    "        return 1 / (1 + np.exp(-z))\n",
    "\n",
    "    def _sigmoid_derivative(self, z):\n",
    "        s = self._sigmoid(z)\n",
    "        return s * (1 - s)\n",
    "\n",
    "    def _forward(self, input_data):\n",
    "        out_layers = []\n",
    "        y = None\n",
    "        for idx, W_i in enumerate(self.weights):\n",
    "            if idx != len(self.weights) - 1:\n",
    "                summa = np.dot(W_i, input_data)\n",
    "                out = np.array([self._sigmoid(_el) for _el in summa])\n",
    "                out_layers.append(out)\n",
    "                input_data = out\n",
    "        summa = np.dot(self.weights[len(self.weights) - 1], input_data)\n",
    "        out_layers.append(summa)\n",
    "        y = summa\n",
    "        return y, out_layers\n",
    "            \n",
    "    def train(self, X, y):\n",
    "        n_features = X.shape[1]\n",
    "        self._init_weights(n_features)\n",
    "        \n",
    "        for idx_iter in range(self.max_iter):\n",
    "            idx = np.random.randint(0, X.shape[0])\n",
    "            x_i = X[idx]\n",
    "            y_i = y[idx]\n",
    "\n",
    "            y_pred, out_layers = self._forward(x_i)\n",
    "            loss = (y_i - y_pred)\n",
    "            if idx_iter % 10 == 0:\n",
    "                print(loss)\n",
    "            grads = []\n",
    "            for idx in range(len(self.weights) - 1, 0, -1):\n",
    "                if idx == len(self.weights) - 1:\n",
    "                    grad = loss\n",
    "                    grads.insert(0, grad)\n",
    "                else:\n",
    "                    grad = self.weights[idx + 1] * grads[0] * out_layers[idx + 1]\n",
    "                \n",
    "                self.weights[idx] -= self.learning_rate * grad * out_layers[idx]\n",
    "\n",
    "            \n",
    "    \n",
    "    def predict(self, X):\n",
    "        pass"
   ]
  },
  {
   "cell_type": "markdown",
   "id": "2afb2d95-c521-406d-b601-0baf84cb4a54",
   "metadata": {},
   "source": [
    "# Проверяем модель MLP на выборке Diamonds"
   ]
  },
  {
   "cell_type": "code",
   "execution_count": 217,
   "id": "fe5eea29-65e1-491a-9896-7632a2abbd08",
   "metadata": {
    "scrolled": true
   },
   "outputs": [
    {
     "name": "stdout",
     "output_type": "stream",
     "text": [
      "Эпоха 0, Потери: 31511185.365665626\n",
      "Эпоха 10, Потери: 15920664.668054447\n",
      "Эпоха 20, Потери: 15651049.877674442\n",
      "Эпоха 30, Потери: 15377656.625692507\n",
      "Эпоха 40, Потери: 15569136.98036635\n",
      "Эпоха 50, Потери: 15070132.78279311\n",
      "Эпоха 60, Потери: 15049101.93464207\n",
      "Эпоха 70, Потери: 14335586.611037986\n",
      "Эпоха 80, Потери: 14657077.136331124\n",
      "Эпоха 90, Потери: 13939280.91380704\n",
      "Эпоха 100, Потери: 13931205.80953119\n",
      "Эпоха 110, Потери: 12146704.850596292\n",
      "Эпоха 120, Потери: 12955753.610540697\n",
      "Эпоха 130, Потери: 11995543.378878443\n",
      "Эпоха 140, Потери: 13293392.947422098\n",
      "Эпоха 150, Потери: 11677771.100433014\n",
      "Эпоха 160, Потери: 11320836.094212396\n",
      "Эпоха 170, Потери: 10371135.453923596\n",
      "Эпоха 180, Потери: 10062386.832617944\n",
      "Эпоха 190, Потери: 10318379.94659876\n",
      "Эпоха 200, Потери: 10289585.768296758\n",
      "Эпоха 210, Потери: 9452944.179835804\n",
      "Эпоха 220, Потери: 10033220.478322197\n",
      "Эпоха 230, Потери: 8239876.712477938\n",
      "Эпоха 240, Потери: 8640148.483758\n",
      "Эпоха 250, Потери: 7554897.0032911785\n",
      "Эпоха 260, Потери: 7819114.277695024\n",
      "Эпоха 270, Потери: 7195414.458843672\n",
      "Эпоха 280, Потери: 7268060.17420465\n",
      "Эпоха 290, Потери: 7115799.744785827\n",
      "Эпоха 300, Потери: 6557113.908166119\n",
      "Эпоха 310, Потери: 6916497.503168397\n",
      "Эпоха 320, Потери: 5958042.96840054\n",
      "Эпоха 330, Потери: 5536696.240549522\n",
      "Эпоха 340, Потери: 5204912.247207464\n",
      "Эпоха 350, Потери: 6278967.297129122\n",
      "Эпоха 360, Потери: 5543604.652248961\n",
      "Эпоха 370, Потери: 5772989.160972503\n",
      "Эпоха 380, Потери: 5190640.992933979\n",
      "Эпоха 390, Потери: 5546986.868786225\n",
      "Эпоха 400, Потери: 4735676.549969202\n",
      "Эпоха 410, Потери: 4779067.897734968\n",
      "Эпоха 420, Потери: 4731155.877070616\n",
      "Эпоха 430, Потери: 4991664.274815568\n",
      "Эпоха 440, Потери: 4589116.469451938\n",
      "Эпоха 450, Потери: 4132119.0078460583\n",
      "Эпоха 460, Потери: 3792502.9373203716\n",
      "Эпоха 470, Потери: 3819587.6284874105\n",
      "Эпоха 480, Потери: 4211481.733391529\n",
      "Эпоха 490, Потери: 4101359.9525654344\n",
      "Эпоха 500, Потери: 3536562.7756074728\n",
      "Эпоха 510, Потери: 3688654.2159749395\n",
      "Эпоха 520, Потери: 5103471.278483557\n",
      "Эпоха 530, Потери: 3363375.381293258\n",
      "Эпоха 540, Потери: 3008380.6235376545\n",
      "Эпоха 550, Потери: 2901167.6725097597\n",
      "Эпоха 560, Потери: 2921483.5605987865\n",
      "Эпоха 570, Потери: 2925601.4493700103\n",
      "Эпоха 580, Потери: 2905671.8425413924\n",
      "Эпоха 590, Потери: 2942891.098544486\n",
      "Эпоха 600, Потери: 4491358.970663595\n",
      "Эпоха 610, Потери: 2912788.870212084\n",
      "Эпоха 620, Потери: 2729410.2283850075\n",
      "Эпоха 630, Потери: 2737094.7759583807\n",
      "Эпоха 640, Потери: 2859312.923813071\n",
      "Эпоха 650, Потери: 2838739.4536498142\n",
      "Эпоха 660, Потери: 2683628.8824368324\n",
      "Эпоха 670, Потери: 2855865.364061541\n",
      "Эпоха 680, Потери: 2748194.6982478797\n",
      "Эпоха 690, Потери: 2786273.9412024133\n",
      "Эпоха 700, Потери: 2788713.586419184\n",
      "Эпоха 710, Потери: 2583247.1840587533\n",
      "Эпоха 720, Потери: 2629043.871554772\n",
      "Эпоха 730, Потери: 2721449.3335295618\n",
      "Эпоха 740, Потери: 2320647.8230022844\n",
      "Эпоха 750, Потери: 2526193.712870847\n",
      "Эпоха 760, Потери: 2394720.237205596\n",
      "Эпоха 770, Потери: 2281686.359921654\n",
      "Эпоха 780, Потери: 2308305.401136851\n",
      "Эпоха 790, Потери: 2337172.5061725494\n",
      "Эпоха 800, Потери: 2250028.7443938553\n",
      "Эпоха 810, Потери: 2095654.0066031606\n",
      "Эпоха 820, Потери: 2200005.5091362153\n",
      "Эпоха 830, Потери: 2205119.7466220143\n",
      "Эпоха 840, Потери: 2433240.8050118163\n",
      "Эпоха 850, Потери: 2491978.4764148\n",
      "Эпоха 860, Потери: 2402374.818437609\n",
      "Эпоха 870, Потери: 2040634.5507272289\n",
      "Эпоха 880, Потери: 1965390.6333812033\n",
      "Эпоха 890, Потери: 1861608.819228241\n",
      "Эпоха 900, Потери: 1897519.5315158356\n",
      "Эпоха 910, Потери: 1979212.7731099545\n",
      "Эпоха 920, Потери: 2101187.688930839\n",
      "Эпоха 930, Потери: 2112287.58456619\n",
      "Эпоха 940, Потери: 2251536.157284912\n",
      "Эпоха 950, Потери: 2451324.1011066856\n",
      "Эпоха 960, Потери: 1987514.0686575437\n",
      "Эпоха 970, Потери: 1835845.9534856267\n",
      "Эпоха 980, Потери: 1859944.0662747985\n",
      "Эпоха 990, Потери: 1795385.3132365686\n"
     ]
    }
   ],
   "source": [
    "model = MLPRegressor()\n",
    "model.train(X_train, y_train)"
   ]
  },
  {
   "cell_type": "code",
   "execution_count": 218,
   "id": "2df8e839-fb8e-4cf7-84de-5637609bfbbb",
   "metadata": {},
   "outputs": [],
   "source": [
    "y_pred_mlp = model.predict(X_test)"
   ]
  },
  {
   "cell_type": "code",
   "execution_count": 219,
   "id": "124730da-be7b-4a85-9c17-203acce7a076",
   "metadata": {},
   "outputs": [],
   "source": [
    "score_mlp = r2_score(y_pred_mlp, y_test)"
   ]
  },
  {
   "cell_type": "code",
   "execution_count": 222,
   "id": "2c16f890-d436-4dcf-8fb0-a727b97f0dc8",
   "metadata": {},
   "outputs": [
    {
     "data": {
      "image/png": "[encoded data removed]",
      "text/plain": [
       "<Figure size 640x480 with 1 Axes>"
      ]
     },
     "metadata": {},
     "output_type": "display_data"
    }
   ],
   "source": [
    "plt.title(f'R2: {str(score_mlp)[:5]}')\n",
    "plt.hist(y_pred_mlp.reshape(1, -1)[0], bins=100, label='PREDICTION')\n",
    "plt.hist(y_test.reshape(1, -1)[0], bins=100, label='GT')\n",
    "plt.legend()\n",
    "plt.grid();"
   ]
  },
  {
   "cell_type": "code",
   "execution_count": null,
   "id": "b27ef1a0-8e2f-4204-90c9-fae2003f940a",
   "metadata": {},
   "outputs": [],
   "source": []
  }
 ],
 "metadata": {
  "kernelspec": {
   "display_name": "Python 3 (ipykernel)",
   "language": "python",
   "name": "python3"
  },
  "language_info": {
   "codemirror_mode": {
    "name": "ipython",
    "version": 3
   },
   "file_extension": ".py",
   "mimetype": "text/x-python",
   "name": "python",
   "nbconvert_exporter": "python",
   "pygments_lexer": "ipython3",
   "version": "3.12.5"
  },
  "widgets": {
   "application/vnd.jupyter.widget-state+json": {
    "state": {},
    "version_major": 2,
    "version_minor": 0
   }
  }
 },
 "nbformat": 4,
 "nbformat_minor": 5
}
